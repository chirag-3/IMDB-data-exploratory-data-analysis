{
 "cells": [
  {
   "cell_type": "code",
   "execution_count": 1,
   "id": "7b76eb25",
   "metadata": {},
   "outputs": [],
   "source": [
    "import sqlite3\n",
    "import pandas as pd"
   ]
  },
  {
   "cell_type": "code",
   "execution_count": 3,
   "id": "17290457",
   "metadata": {},
   "outputs": [],
   "source": [
    "db = sqlite3.connect(\"IMDB.sqlite\")"
   ]
  },
  {
   "cell_type": "code",
   "execution_count": 5,
   "id": "84b6d595",
   "metadata": {},
   "outputs": [],
   "source": [
    "cur = db.cursor()"
   ]
  },
  {
   "cell_type": "markdown",
   "id": "9c9bfb68",
   "metadata": {},
   "source": [
    "# Finding the number of movies in each genre"
   ]
  },
  {
   "cell_type": "markdown",
   "id": "34133184",
   "metadata": {},
   "source": [
    "Using SQL commands"
   ]
  },
  {
   "cell_type": "code",
   "execution_count": 12,
   "id": "aa9f4354",
   "metadata": {},
   "outputs": [],
   "source": [
    "cur.execute(\"select genre,count(*) from genre group by genre\")\n",
    "ans = cur.fetchall()"
   ]
  },
  {
   "cell_type": "code",
   "execution_count": 13,
   "id": "125129a2",
   "metadata": {},
   "outputs": [
    {
     "data": {
      "text/plain": [
       "[('', 41),\n",
       " ('Action', 33),\n",
       " ('Adventure', 43),\n",
       " ('Animation', 13),\n",
       " ('Biography', 21),\n",
       " ('Comedy', 31),\n",
       " ('Crime', 11),\n",
       " ('Drama', 77),\n",
       " ('Family', 3),\n",
       " ('Fantasy', 7),\n",
       " ('History', 6),\n",
       " ('Horror', 2),\n",
       " ('Music', 3),\n",
       " ('Musical', 1),\n",
       " ('Mystery', 7),\n",
       " ('Romance', 13),\n",
       " ('Sci-Fi', 18),\n",
       " ('Sport', 3),\n",
       " ('Thriller', 14),\n",
       " ('War', 2),\n",
       " ('Western', 2)]"
      ]
     },
     "execution_count": 13,
     "metadata": {},
     "output_type": "execute_result"
    }
   ],
   "source": [
    "ans"
   ]
  },
  {
   "cell_type": "markdown",
   "id": "0673e285",
   "metadata": {},
   "source": [
    "Using dataframe"
   ]
  },
  {
   "cell_type": "code",
   "execution_count": 15,
   "id": "d5443f1d",
   "metadata": {},
   "outputs": [],
   "source": [
    "df = pd.read_sql_query(\"select * from genre\",db)"
   ]
  },
  {
   "cell_type": "code",
   "execution_count": 16,
   "id": "0dac9839",
   "metadata": {},
   "outputs": [],
   "source": [
    "genre_counts = df['genre'].value_counts()"
   ]
  },
  {
   "cell_type": "code",
   "execution_count": 17,
   "id": "5cf4d4ba",
   "metadata": {},
   "outputs": [
    {
     "data": {
      "text/plain": [
       "Drama        77\n",
       "Adventure    43\n",
       "             41\n",
       "Action       33\n",
       "Comedy       31\n",
       "Biography    21\n",
       "Sci-Fi       18\n",
       "Thriller     14\n",
       "Romance      13\n",
       "Animation    13\n",
       "Crime        11\n",
       "Mystery       7\n",
       "Fantasy       7\n",
       "History       6\n",
       "Sport         3\n",
       "Family        3\n",
       "Music         3\n",
       "Western       2\n",
       "War           2\n",
       "Horror        2\n",
       "Musical       1\n",
       "Name: genre, dtype: int64"
      ]
     },
     "execution_count": 17,
     "metadata": {},
     "output_type": "execute_result"
    }
   ],
   "source": [
    "genre_counts"
   ]
  },
  {
   "cell_type": "markdown",
   "id": "16ab1bf3",
   "metadata": {},
   "source": [
    "# Finding the higest grossing movie ever"
   ]
  },
  {
   "cell_type": "code",
   "execution_count": 24,
   "id": "8e791239",
   "metadata": {},
   "outputs": [
    {
     "name": "stdout",
     "output_type": "stream",
     "text": [
      "(0, 'Movie_id', 'Text', 0, None, 0)\n",
      "(1, 'Title', 'Text', 0, None, 0)\n",
      "(2, 'Rating', 'DECIMAL', 0, None, 0)\n",
      "(3, 'TotalVotes', 'INTEGER', 0, None, 0)\n",
      "(4, 'MetaCritic', 'DECIMAL', 0, None, 0)\n",
      "(5, 'Budget', 'DOUBLE', 0, None, 0)\n",
      "(6, 'Runtime', 'Text', 0, None, 0)\n",
      "(7, 'CVotes10', 'Text', 0, None, 0)\n",
      "(8, 'CVotes09', 'Text', 0, None, 0)\n",
      "(9, 'CVotes08', 'Text', 0, None, 0)\n",
      "(10, 'CVotes07', 'Text', 0, None, 0)\n",
      "(11, 'CVotes06', 'Text', 0, None, 0)\n",
      "(12, 'CVotes05', 'Text', 0, None, 0)\n",
      "(13, 'CVotes04', 'Text', 0, None, 0)\n",
      "(14, 'CVotes03', 'Text', 0, None, 0)\n",
      "(15, 'CVotes02', 'Text', 0, None, 0)\n",
      "(16, 'CVotes01', 'Text', 0, None, 0)\n",
      "(17, 'CVotesMale', 'Text', 0, None, 0)\n",
      "(18, 'CVotesFemale', 'Text', 0, None, 0)\n",
      "(19, 'CVotesU18', 'Text', 0, None, 0)\n",
      "(20, 'CVotesU18M', 'Text', 0, None, 0)\n",
      "(21, 'CVotesU18F', 'Text', 0, None, 0)\n",
      "(22, 'CVotes1829', 'Text', 0, None, 0)\n",
      "(23, 'CVotes1829M', 'Text', 0, None, 0)\n",
      "(24, 'CVotes1829F', 'Text', 0, None, 0)\n",
      "(25, 'CVotes3044', 'Text', 0, None, 0)\n",
      "(26, 'CVotes3044M', 'Text', 0, None, 0)\n",
      "(27, 'CVotes3044F', 'Text', 0, None, 0)\n",
      "(28, 'CVotes45A', 'Text', 0, None, 0)\n",
      "(29, 'CVotes45AM', 'Text', 0, None, 0)\n",
      "(30, 'CVotes45AF', 'Text', 0, None, 0)\n",
      "(31, 'CVotes1000', 'Text', 0, None, 0)\n",
      "(32, 'CVotesUS', 'Text', 0, None, 0)\n",
      "(33, 'CVotesnUS', 'Text', 0, None, 0)\n",
      "(34, 'VotesM', 'Text', 0, None, 0)\n",
      "(35, 'VotesF', 'Text', 0, None, 0)\n",
      "(36, 'VotesU18', 'Text', 0, None, 0)\n",
      "(37, 'VotesU18M', 'Text', 0, None, 0)\n",
      "(38, 'VotesU18F', 'Text', 0, None, 0)\n",
      "(39, 'Votes1829', 'Text', 0, None, 0)\n",
      "(40, 'Votes1829M', 'Text', 0, None, 0)\n",
      "(41, 'Votes1829F', 'Text', 0, None, 0)\n",
      "(42, 'Votes3044', 'Text', 0, None, 0)\n",
      "(43, 'Votes3044M', 'Text', 0, None, 0)\n",
      "(44, 'Votes3044F', 'Text', 0, None, 0)\n",
      "(45, 'Votes45A', 'Text', 0, None, 0)\n",
      "(46, 'Votes45AM', 'Text', 0, None, 0)\n",
      "(47, 'Votes45AF', 'Text', 0, None, 0)\n",
      "(48, 'VotesIMDB', 'Text', 0, None, 0)\n",
      "(49, 'Votes1000', 'Text', 0, None, 0)\n",
      "(50, 'VotesUS', 'Text', 0, None, 0)\n",
      "(51, 'VotesnUS', 'Text', 0, None, 0)\n",
      "*******************************************\n",
      "(0, 'Movie_id', 'Text', 0, None, 0)\n",
      "(1, 'Domestic', 'Integer', 0, None, 0)\n",
      "(2, 'Worldwide', 'DOUBLE', 0, None, 0)\n"
     ]
    }
   ],
   "source": [
    "cur.execute('PRAGMA table_info(imdb)')\n",
    "for row in cur:\n",
    "    print(row)\n",
    "print(\"*******************************************\")\n",
    "cur.execute('PRAGMA table_info(earning)')\n",
    "for row in cur:\n",
    "    print(row)"
   ]
  },
  {
   "cell_type": "code",
   "execution_count": 25,
   "id": "285f5762",
   "metadata": {},
   "outputs": [
    {
     "name": "stdout",
     "output_type": "stream",
     "text": [
      "[(3004885849.0,)]\n"
     ]
    }
   ],
   "source": [
    "print(cur.execute(\"select max(domestic+worldwide) from earning\").fetchall())"
   ]
  },
  {
   "cell_type": "code",
   "execution_count": 41,
   "id": "ecc19e92",
   "metadata": {},
   "outputs": [],
   "source": [
    "answer = cur.execute('''select t1.movie_id,t1.title,t1.rating,t2.worldwide+t2.domestic\n",
    "                     from imdb t1\n",
    "                     join earning t2\n",
    "                     on t1.movie_id = t2.movie_id\n",
    "                     group by t1.movie_id\n",
    "                     order by (t2.worldwide+t2.domestic) desc''').fetchall()"
   ]
  },
  {
   "cell_type": "code",
   "execution_count": 43,
   "id": "e4c20a95",
   "metadata": {},
   "outputs": [
    {
     "data": {
      "text/plain": [
       "8.1"
      ]
     },
     "execution_count": 43,
     "metadata": {},
     "output_type": "execute_result"
    }
   ],
   "source": [
    "answer[0][2]"
   ]
  },
  {
   "cell_type": "code",
   "execution_count": null,
   "id": "48da447d",
   "metadata": {},
   "outputs": [],
   "source": []
  }
 ],
 "metadata": {
  "kernelspec": {
   "display_name": "Python 3 (ipykernel)",
   "language": "python",
   "name": "python3"
  },
  "language_info": {
   "codemirror_mode": {
    "name": "ipython",
    "version": 3
   },
   "file_extension": ".py",
   "mimetype": "text/x-python",
   "name": "python",
   "nbconvert_exporter": "python",
   "pygments_lexer": "ipython3",
   "version": "3.9.7"
  }
 },
 "nbformat": 4,
 "nbformat_minor": 5
}
