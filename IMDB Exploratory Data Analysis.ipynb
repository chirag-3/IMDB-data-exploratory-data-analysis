{
 "cells": [
  {
   "cell_type": "code",
   "execution_count": 1,
   "id": "62cf482d",
   "metadata": {},
   "outputs": [],
   "source": [
    "import sqlite3\n",
    "import pandas as pd"
   ]
  },
  {
   "cell_type": "code",
   "execution_count": 3,
   "id": "dd180771",
   "metadata": {},
   "outputs": [],
   "source": [
    "db = sqlite3.connect(\"IMDB.sqlite\")"
   ]
  },
  {
   "cell_type": "code",
   "execution_count": 5,
   "id": "882ce6d8",
   "metadata": {},
   "outputs": [],
   "source": [
    "cur = db.cursor()"
   ]
  },
  {
   "cell_type": "markdown",
   "id": "27496661",
   "metadata": {},
   "source": [
    "# Finding the number of movies in each genre"
   ]
  },
  {
   "cell_type": "markdown",
   "id": "24bca9b3",
   "metadata": {},
   "source": [
    "Using SQL commands"
   ]
  },
  {
   "cell_type": "code",
   "execution_count": 12,
   "id": "da156fb4",
   "metadata": {},
   "outputs": [],
   "source": [
    "cur.execute(\"select genre,count(*) from genre group by genre\")\n",
    "ans = cur.fetchall()"
   ]
  },
  {
   "cell_type": "code",
   "execution_count": 13,
   "id": "5e3774b1",
   "metadata": {},
   "outputs": [
    {
     "data": {
      "text/plain": [
       "[('', 41),\n",
       " ('Action', 33),\n",
       " ('Adventure', 43),\n",
       " ('Animation', 13),\n",
       " ('Biography', 21),\n",
       " ('Comedy', 31),\n",
       " ('Crime', 11),\n",
       " ('Drama', 77),\n",
       " ('Family', 3),\n",
       " ('Fantasy', 7),\n",
       " ('History', 6),\n",
       " ('Horror', 2),\n",
       " ('Music', 3),\n",
       " ('Musical', 1),\n",
       " ('Mystery', 7),\n",
       " ('Romance', 13),\n",
       " ('Sci-Fi', 18),\n",
       " ('Sport', 3),\n",
       " ('Thriller', 14),\n",
       " ('War', 2),\n",
       " ('Western', 2)]"
      ]
     },
     "execution_count": 13,
     "metadata": {},
     "output_type": "execute_result"
    }
   ],
   "source": [
    "ans"
   ]
  },
  {
   "cell_type": "markdown",
   "id": "00ca2e9c",
   "metadata": {},
   "source": [
    "Using dataframe"
   ]
  },
  {
   "cell_type": "code",
   "execution_count": 15,
   "id": "bd012640",
   "metadata": {},
   "outputs": [],
   "source": [
    "df = pd.read_sql_query(\"select * from genre\",db)"
   ]
  },
  {
   "cell_type": "code",
   "execution_count": 16,
   "id": "eced8034",
   "metadata": {},
   "outputs": [],
   "source": [
    "genre_counts = df['genre'].value_counts()"
   ]
  },
  {
   "cell_type": "code",
   "execution_count": 17,
   "id": "4d3ad58e",
   "metadata": {},
   "outputs": [
    {
     "data": {
      "text/plain": [
       "Drama        77\n",
       "Adventure    43\n",
       "             41\n",
       "Action       33\n",
       "Comedy       31\n",
       "Biography    21\n",
       "Sci-Fi       18\n",
       "Thriller     14\n",
       "Romance      13\n",
       "Animation    13\n",
       "Crime        11\n",
       "Mystery       7\n",
       "Fantasy       7\n",
       "History       6\n",
       "Sport         3\n",
       "Family        3\n",
       "Music         3\n",
       "Western       2\n",
       "War           2\n",
       "Horror        2\n",
       "Musical       1\n",
       "Name: genre, dtype: int64"
      ]
     },
     "execution_count": 17,
     "metadata": {},
     "output_type": "execute_result"
    }
   ],
   "source": [
    "genre_counts"
   ]
  },
  {
   "cell_type": "code",
   "execution_count": null,
   "id": "f334aca3",
   "metadata": {},
   "outputs": [],
   "source": []
  }
 ],
 "metadata": {
  "kernelspec": {
   "display_name": "Python 3 (ipykernel)",
   "language": "python",
   "name": "python3"
  },
  "language_info": {
   "codemirror_mode": {
    "name": "ipython",
    "version": 3
   },
   "file_extension": ".py",
   "mimetype": "text/x-python",
   "name": "python",
   "nbconvert_exporter": "python",
   "pygments_lexer": "ipython3",
   "version": "3.9.7"
  }
 },
 "nbformat": 4,
 "nbformat_minor": 5
}
