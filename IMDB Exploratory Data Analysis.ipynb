{
 "cells": [
  {
   "cell_type": "code",
   "execution_count": 1,
   "id": "7fcb059a",
   "metadata": {},
   "outputs": [],
   "source": [
    "import sqlite3\n",
    "import pandas as pd"
   ]
  },
  {
   "cell_type": "code",
   "execution_count": 3,
   "id": "f25059df",
   "metadata": {},
   "outputs": [],
   "source": [
    "db = sqlite3.connect(\"IMDB.sqlite\")"
   ]
  },
  {
   "cell_type": "code",
   "execution_count": 5,
   "id": "bb4df64a",
   "metadata": {},
   "outputs": [],
   "source": [
    "cur = db.cursor()"
   ]
  },
  {
   "cell_type": "markdown",
   "id": "09496467",
   "metadata": {},
   "source": [
    "# Finding the number of movies in each genre"
   ]
  },
  {
   "cell_type": "markdown",
   "id": "045c7084",
   "metadata": {},
   "source": [
    "Using SQL commands"
   ]
  },
  {
   "cell_type": "code",
   "execution_count": 12,
   "id": "b9d1ab5e",
   "metadata": {},
   "outputs": [],
   "source": [
    "cur.execute(\"select genre,count(*) from genre group by genre\")\n",
    "ans = cur.fetchall()"
   ]
  },
  {
   "cell_type": "code",
   "execution_count": 13,
   "id": "249f0d7b",
   "metadata": {},
   "outputs": [
    {
     "data": {
      "text/plain": [
       "[('', 41),\n",
       " ('Action', 33),\n",
       " ('Adventure', 43),\n",
       " ('Animation', 13),\n",
       " ('Biography', 21),\n",
       " ('Comedy', 31),\n",
       " ('Crime', 11),\n",
       " ('Drama', 77),\n",
       " ('Family', 3),\n",
       " ('Fantasy', 7),\n",
       " ('History', 6),\n",
       " ('Horror', 2),\n",
       " ('Music', 3),\n",
       " ('Musical', 1),\n",
       " ('Mystery', 7),\n",
       " ('Romance', 13),\n",
       " ('Sci-Fi', 18),\n",
       " ('Sport', 3),\n",
       " ('Thriller', 14),\n",
       " ('War', 2),\n",
       " ('Western', 2)]"
      ]
     },
     "execution_count": 13,
     "metadata": {},
     "output_type": "execute_result"
    }
   ],
   "source": [
    "ans"
   ]
  },
  {
   "cell_type": "markdown",
   "id": "6d31f362",
   "metadata": {},
   "source": [
    "Using dataframe"
   ]
  },
  {
   "cell_type": "code",
   "execution_count": 15,
   "id": "dcdfabd3",
   "metadata": {},
   "outputs": [],
   "source": [
    "df = pd.read_sql_query(\"select * from genre\",db)"
   ]
  },
  {
   "cell_type": "code",
   "execution_count": 16,
   "id": "08943994",
   "metadata": {},
   "outputs": [],
   "source": [
    "genre_counts = df['genre'].value_counts()"
   ]
  },
  {
   "cell_type": "code",
   "execution_count": 17,
   "id": "06dfddb5",
   "metadata": {},
   "outputs": [
    {
     "data": {
      "text/plain": [
       "Drama        77\n",
       "Adventure    43\n",
       "             41\n",
       "Action       33\n",
       "Comedy       31\n",
       "Biography    21\n",
       "Sci-Fi       18\n",
       "Thriller     14\n",
       "Romance      13\n",
       "Animation    13\n",
       "Crime        11\n",
       "Mystery       7\n",
       "Fantasy       7\n",
       "History       6\n",
       "Sport         3\n",
       "Family        3\n",
       "Music         3\n",
       "Western       2\n",
       "War           2\n",
       "Horror        2\n",
       "Musical       1\n",
       "Name: genre, dtype: int64"
      ]
     },
     "execution_count": 17,
     "metadata": {},
     "output_type": "execute_result"
    }
   ],
   "source": [
    "genre_counts"
   ]
  },
  {
   "cell_type": "markdown",
   "id": "1463803f",
   "metadata": {},
   "source": [
    "# Finding the higest grossing movie ever"
   ]
  },
  {
   "cell_type": "code",
   "execution_count": 24,
   "id": "4620f21f",
   "metadata": {},
   "outputs": [
    {
     "name": "stdout",
     "output_type": "stream",
     "text": [
      "(0, 'Movie_id', 'Text', 0, None, 0)\n",
      "(1, 'Title', 'Text', 0, None, 0)\n",
      "(2, 'Rating', 'DECIMAL', 0, None, 0)\n",
      "(3, 'TotalVotes', 'INTEGER', 0, None, 0)\n",
      "(4, 'MetaCritic', 'DECIMAL', 0, None, 0)\n",
      "(5, 'Budget', 'DOUBLE', 0, None, 0)\n",
      "(6, 'Runtime', 'Text', 0, None, 0)\n",
      "(7, 'CVotes10', 'Text', 0, None, 0)\n",
      "(8, 'CVotes09', 'Text', 0, None, 0)\n",
      "(9, 'CVotes08', 'Text', 0, None, 0)\n",
      "(10, 'CVotes07', 'Text', 0, None, 0)\n",
      "(11, 'CVotes06', 'Text', 0, None, 0)\n",
      "(12, 'CVotes05', 'Text', 0, None, 0)\n",
      "(13, 'CVotes04', 'Text', 0, None, 0)\n",
      "(14, 'CVotes03', 'Text', 0, None, 0)\n",
      "(15, 'CVotes02', 'Text', 0, None, 0)\n",
      "(16, 'CVotes01', 'Text', 0, None, 0)\n",
      "(17, 'CVotesMale', 'Text', 0, None, 0)\n",
      "(18, 'CVotesFemale', 'Text', 0, None, 0)\n",
      "(19, 'CVotesU18', 'Text', 0, None, 0)\n",
      "(20, 'CVotesU18M', 'Text', 0, None, 0)\n",
      "(21, 'CVotesU18F', 'Text', 0, None, 0)\n",
      "(22, 'CVotes1829', 'Text', 0, None, 0)\n",
      "(23, 'CVotes1829M', 'Text', 0, None, 0)\n",
      "(24, 'CVotes1829F', 'Text', 0, None, 0)\n",
      "(25, 'CVotes3044', 'Text', 0, None, 0)\n",
      "(26, 'CVotes3044M', 'Text', 0, None, 0)\n",
      "(27, 'CVotes3044F', 'Text', 0, None, 0)\n",
      "(28, 'CVotes45A', 'Text', 0, None, 0)\n",
      "(29, 'CVotes45AM', 'Text', 0, None, 0)\n",
      "(30, 'CVotes45AF', 'Text', 0, None, 0)\n",
      "(31, 'CVotes1000', 'Text', 0, None, 0)\n",
      "(32, 'CVotesUS', 'Text', 0, None, 0)\n",
      "(33, 'CVotesnUS', 'Text', 0, None, 0)\n",
      "(34, 'VotesM', 'Text', 0, None, 0)\n",
      "(35, 'VotesF', 'Text', 0, None, 0)\n",
      "(36, 'VotesU18', 'Text', 0, None, 0)\n",
      "(37, 'VotesU18M', 'Text', 0, None, 0)\n",
      "(38, 'VotesU18F', 'Text', 0, None, 0)\n",
      "(39, 'Votes1829', 'Text', 0, None, 0)\n",
      "(40, 'Votes1829M', 'Text', 0, None, 0)\n",
      "(41, 'Votes1829F', 'Text', 0, None, 0)\n",
      "(42, 'Votes3044', 'Text', 0, None, 0)\n",
      "(43, 'Votes3044M', 'Text', 0, None, 0)\n",
      "(44, 'Votes3044F', 'Text', 0, None, 0)\n",
      "(45, 'Votes45A', 'Text', 0, None, 0)\n",
      "(46, 'Votes45AM', 'Text', 0, None, 0)\n",
      "(47, 'Votes45AF', 'Text', 0, None, 0)\n",
      "(48, 'VotesIMDB', 'Text', 0, None, 0)\n",
      "(49, 'Votes1000', 'Text', 0, None, 0)\n",
      "(50, 'VotesUS', 'Text', 0, None, 0)\n",
      "(51, 'VotesnUS', 'Text', 0, None, 0)\n",
      "*******************************************\n",
      "(0, 'Movie_id', 'Text', 0, None, 0)\n",
      "(1, 'Domestic', 'Integer', 0, None, 0)\n",
      "(2, 'Worldwide', 'DOUBLE', 0, None, 0)\n"
     ]
    }
   ],
   "source": [
    "cur.execute('PRAGMA table_info(imdb)')\n",
    "for row in cur:\n",
    "    print(row)\n",
    "print(\"*******************************************\")\n",
    "cur.execute('PRAGMA table_info(earning)')\n",
    "for row in cur:\n",
    "    print(row)"
   ]
  },
  {
   "cell_type": "code",
   "execution_count": 25,
   "id": "bc58da4d",
   "metadata": {},
   "outputs": [
    {
     "name": "stdout",
     "output_type": "stream",
     "text": [
      "[(3004885849.0,)]\n"
     ]
    }
   ],
   "source": [
    "print(cur.execute(\"select max(domestic+worldwide) from earning\").fetchall())"
   ]
  },
  {
   "cell_type": "code",
   "execution_count": 41,
   "id": "da6f203e",
   "metadata": {},
   "outputs": [],
   "source": [
    "answer = cur.execute('''select t1.movie_id,t1.title,t1.rating,t2.worldwide+t2.domestic\n",
    "                     from imdb t1\n",
    "                     join earning t2\n",
    "                     on t1.movie_id = t2.movie_id\n",
    "                     group by t1.movie_id\n",
    "                     order by (t2.worldwide+t2.domestic) desc''').fetchall()"
   ]
  },
  {
   "cell_type": "code",
   "execution_count": 44,
   "id": "815b24d8",
   "metadata": {},
   "outputs": [
    {
     "data": {
      "text/plain": [
       "'Star Wars: The Force Awakens\\xa0(2015)'"
      ]
     },
     "execution_count": 44,
     "metadata": {},
     "output_type": "execute_result"
    }
   ],
   "source": [
    "answer[0][1]"
   ]
  },
  {
   "cell_type": "markdown",
   "id": "bad4cc6c",
   "metadata": {},
   "source": [
    "# Arranging movies by votes"
   ]
  },
  {
   "cell_type": "code",
   "execution_count": 45,
   "id": "5590d5ee",
   "metadata": {},
   "outputs": [],
   "source": [
    "movie_votes = cur.execute(\"select title,rating,totalvotes from imdb order by totalvotes desc\").fetchall()"
   ]
  },
  {
   "cell_type": "code",
   "execution_count": 46,
   "id": "f02bf6c7",
   "metadata": {},
   "outputs": [
    {
     "data": {
      "text/plain": [
       "[('Inception\\xa0(2010)', 8.8, 1609713),\n",
       " ('The Dark Knight Rises\\xa0(2012)', 8.4, 1240780),\n",
       " ('Interstellar\\xa0(2014)', 8.6, 1075163),\n",
       " ('Django Unchained\\xa0(2012)', 8.4, 1056822),\n",
       " ('The Avengers\\xa0(2012)', 8.1, 1056773),\n",
       " ('The Wolf of Wall Street\\xa0(2013)', 8.2, 881984),\n",
       " ('Shutter Island\\xa0(2010)', 8.1, 871391),\n",
       " ('Guardians of the Galaxy\\xa0(2014)', 8.1, 778220),\n",
       " ('Star Wars: The Force Awakens\\xa0(2015)', 8.1, 676732),\n",
       " ('The Hobbit: An Unexpected Journey\\xa0(2012)', 7.9, 675678),\n",
       " ('Deadpool\\xa0(2016)', 8, 652127),\n",
       " ('Mad Max: Fury Road\\xa0(2015)', 8.1, 649540),\n",
       " ('Gone Girl\\xa0(2014)', 8.1, 649474),\n",
       " ('Gravity\\xa0(2013)', 7.8, 630890),\n",
       " ('Toy Story 3\\xa0(2010)', 8.3, 596385),\n",
       " ('Black Swan\\xa0(2010)', 8, 587893),\n",
       " ('Silver Linings Playbook\\xa0(2012)', 7.8, 570344),\n",
       " ('The Martian\\xa0(2015)', 8, 569347),\n",
       " ('X-Men: Days of Future Past\\xa0(2014)', 8, 560736),\n",
       " ('X-Men: First Class\\xa0(2011)', 7.8, 556713),\n",
       " ('Captain America: The Winter Soldier\\xa0(2014)', 7.8, 552706),\n",
       " ('Skyfall\\xa0(2012)', 7.8, 552367),\n",
       " ('The Grand Budapest Hotel\\xa0(2014)', 8.1, 541526),\n",
       " ('The Imitation Game\\xa0(2014)', 8.1, 540489),\n",
       " (\"The King's Speech\\xa0(2010)\", 8, 540240),\n",
       " ('How to Train Your Dragon\\xa0(2010)', 8.1, 532296),\n",
       " ('The Hunger Games: Catching Fire\\xa0(2013)', 7.6, 531466),\n",
       " ('The Hobbit: The Desolation of Smaug\\xa0(2013)', 7.9, 520084),\n",
       " ('The Social Network\\xa0(2010)', 7.7, 516417),\n",
       " ('The Revenant\\xa0(2015)', 8, 512526),\n",
       " ('12 Years a Slave\\xa0(2013)', 8.1, 496092),\n",
       " ('Whiplash\\xa0(2014)', 8.5, 492285),\n",
       " ('Argo\\xa0(2012)', 7.7, 486840),\n",
       " ('Edge of Tomorrow\\xa0(2014)', 7.9, 480513),\n",
       " ('Drive\\xa0(2011)', 7.8, 467642),\n",
       " ('Kick-Ass\\xa0(2010)', 7.7, 461860),\n",
       " ('Kingsman: The Secret Service\\xa0(2014)', 7.7, 450500),\n",
       " ('Birdman or (The Unexpected Virtue of Ignorance)\\xa0(2014)', 7.8, 448725),\n",
       " ('Prisoners\\xa0(2013)', 8.1, 441037),\n",
       " ('Rise of the Planet of the Apes\\xa0(2011)', 7.6, 434037),\n",
       " ('Captain America: Civil War\\xa0(2016)', 7.9, 431555),\n",
       " ('Inside Out\\xa0(2015)', 8.2, 430229),\n",
       " ('Star Trek Into Darkness\\xa0(2013)', 7.8, 421473),\n",
       " ('Despicable Me\\xa0(2010)', 7.7, 417592),\n",
       " ('Her\\xa0(2013)', 8, 398431),\n",
       " ('The Perks of Being a Wallflower\\xa0(2012)', 8, 382665),\n",
       " ('Arrival\\xa0(2016)', 8, 370842),\n",
       " ('Harry Potter and the Deathly Hallows: Part 1\\xa0(2010)', 7.7, 363226),\n",
       " ('Warrior\\xa0(2011)', 8.2, 361049),\n",
       " ('Dallas Buyers Club\\xa0(2013)', 8, 357641),\n",
       " ('The Girl with the Dragon Tattoo\\xa0(2011)', 7.8, 352566),\n",
       " ('Captain Phillips\\xa0(2013)', 7.8, 350818),\n",
       " ('Dawn of the Planet of the Apes\\xa0(2014)', 7.6, 349646),\n",
       " ('Rogue One\\xa0(2016)', 7.9, 349210),\n",
       " ('Ex Machina\\xa0(2014)', 7.7, 348550),\n",
       " ('The Help\\xa0(2011)', 8.1, 347299),\n",
       " ('Rush\\xa0(2013)', 8.1, 345486),\n",
       " ('Nightcrawler\\xa0(2014)', 7.9, 340717),\n",
       " ('Fury\\xa0(2014)', 7.6, 337571),\n",
       " ('Doctor Strange\\xa0(2016)', 7.6, 328932),\n",
       " ('Midnight in Paris\\xa0(2011)', 7.7, 324479),\n",
       " ('Tangled\\xa0(2010)', 7.8, 321593),\n",
       " ('Big Hero 6\\xa0(2014)', 7.8, 315485),\n",
       " ('Zootopia\\xa0(2016)', 8.1, 309474),\n",
       " ('The Theory of Everything\\xa0(2014)', 7.7, 305145),\n",
       " ('Moneyball\\xa0(2011)', 7.6, 300199),\n",
       " ('Scott Pilgrim vs. the World\\xa0(2010)', 7.5, 297633),\n",
       " ('The Town\\xa0(2010)', 7.6, 297426),\n",
       " ('127 Hours\\xa0(2010)', 7.6, 297075),\n",
       " ('Wreck-It Ralph\\xa0(2012)', 7.7, 295125),\n",
       " ('The Fighter\\xa0(2010)', 7.8, 292823),\n",
       " ('La La Land\\xa0(2016)', 8.2, 290330),\n",
       " ('Boyhood\\xa0(2014)', 7.9, 290327),\n",
       " ('50/50\\xa0(2011)', 7.7, 283935),\n",
       " ('Spotlight\\xa0(2015)', 8.1, 279211),\n",
       " ('The Fault in Our Stars\\xa0(2014)', 7.8, 276272),\n",
       " ('The Lego Movie\\xa0(2014)', 7.8, 271515),\n",
       " ('Hugo\\xa0(2011)', 7.5, 261953),\n",
       " ('Les Mis\\uf1c3İrables\\xa0(2012)', 7.6, 260178),\n",
       " ('Moonrise Kingdom\\xa0(2012)', 7.8, 258231),\n",
       " ('True Grit\\xa0(2010)', 7.6, 257670),\n",
       " ('The Big Short\\xa0(2015)', 7.8, 254317),\n",
       " ('Sicario\\xa0(2015)', 7.6, 250849),\n",
       " ('Hacksaw Ridge\\xa0(2016)', 8.2, 244314),\n",
       " ('How to Train Your Dragon 2\\xa0(2014)', 7.9, 240983),\n",
       " ('About Time\\xa0(2013)', 7.8, 225412),\n",
       " ('Bridge of Spies\\xa0(2015)', 7.6, 223756),\n",
       " ('Lone Survivor\\xa0(2013)', 7.5, 222343),\n",
       " ('The Artist\\xa0(2011)', 7.9, 201344),\n",
       " ('End of Watch\\xa0(2012)', 7.7, 194675),\n",
       " ('Creed\\xa0(2015)', 7.6, 179795),\n",
       " ('Manchester by the Sea\\xa0(2016)', 7.9, 150266),\n",
       " ('Straight Outta Compton\\xa0(2015)', 7.9, 144011),\n",
       " ('Moana\\xa0(2016)', 7.7, 142460),\n",
       " ('Tucker and Dale vs Evil\\xa0(2010)', 7.6, 138624),\n",
       " ('Hell or High Water\\xa0(2016)', 7.7, 125026),\n",
       " ('Lion\\xa0(2016)', 8.1, 123032),\n",
       " ('Captain Fantastic\\xa0(2016)', 7.9, 115194),\n",
       " ('Hidden Figures\\xa0(2016)', 7.8, 111357),\n",
       " ('The Book Thief\\xa0(2013)', 7.6, 107880),\n",
       " ('Before Midnight\\xa0(2013)', 7.9, 106553),\n",
       " ('Nebraska\\xa0(2013)', 7.7, 97059),\n",
       " ('Me and Earl and the Dying Girl\\xa0(2015)', 7.8, 94563),\n",
       " ('What We Do in the Shadows\\xa0(2014)', 7.6, 87975),\n",
       " ('Philomena\\xa0(2013)', 7.6, 81855),\n",
       " ('Kubo and the Two Strings\\xa0(2016)', 7.8, 78588),\n",
       " ('Amour\\xa0(2012)', 7.9, 76121),\n",
       " ('Flipped\\xa0(2010)', 7.7, 66461),\n",
       " ('Disconnect\\xa0(2012)', 7.6, 65448),\n",
       " ('Short Term 12\\xa0(2013)', 8, 63459),\n",
       " ('Detachment\\xa0(2011)', 7.7, 62352),\n",
       " ('Hunt for the Wilderpeople\\xa0(2016)', 7.9, 56964),\n",
       " ('Sing Street\\xa0(2016)', 8, 56066),\n",
       " ('The Little Prince\\xa0(2015)', 7.8, 40777),\n",
       " ('Pride\\xa0(2014)', 7.8, 40577),\n",
       " ('I, Daniel Blake\\xa0(2016)', 7.9, 28350),\n",
       " ('Tyrannosaur\\xa0(2011)', 7.6, 26016)]"
      ]
     },
     "execution_count": 46,
     "metadata": {},
     "output_type": "execute_result"
    }
   ],
   "source": [
    "movie_votes"
   ]
  },
  {
   "cell_type": "code",
   "execution_count": null,
   "id": "8f9d2c50",
   "metadata": {},
   "outputs": [],
   "source": []
  }
 ],
 "metadata": {
  "kernelspec": {
   "display_name": "Python 3 (ipykernel)",
   "language": "python",
   "name": "python3"
  },
  "language_info": {
   "codemirror_mode": {
    "name": "ipython",
    "version": 3
   },
   "file_extension": ".py",
   "mimetype": "text/x-python",
   "name": "python",
   "nbconvert_exporter": "python",
   "pygments_lexer": "ipython3",
   "version": "3.9.7"
  }
 },
 "nbformat": 4,
 "nbformat_minor": 5
}
